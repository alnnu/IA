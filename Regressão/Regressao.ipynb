{
 "cells": [
  {
   "cell_type": "code",
   "execution_count": 1,
   "id": "42cb2380-d348-448e-834e-7b13febc4ee7",
   "metadata": {
    "ExecuteTime": {
     "end_time": "2023-09-21T20:50:44.904008200Z",
     "start_time": "2023-09-21T20:50:38.843444800Z"
    }
   },
   "outputs": [
    {
     "name": "stdout",
     "output_type": "stream",
     "text": [
      "Requirement already satisfied: numpy in c:\\users\\luann\\onedrive\\documentos\\projetos\\ia\\venv\\lib\\site-packages (from -r requirements.txt (line 1)) (1.26.0)\n",
      "Requirement already satisfied: pandas in c:\\users\\luann\\onedrive\\documentos\\projetos\\ia\\venv\\lib\\site-packages (from -r requirements.txt (line 2)) (2.1.1)\n",
      "Requirement already satisfied: matplotlib in c:\\users\\luann\\onedrive\\documentos\\projetos\\ia\\venv\\lib\\site-packages (from -r requirements.txt (line 3)) (3.8.0)\n",
      "Requirement already satisfied: umap in c:\\users\\luann\\onedrive\\documentos\\projetos\\ia\\venv\\lib\\site-packages (from -r requirements.txt (line 4)) (0.1.1)\n",
      "Requirement already satisfied: scikit-learn in c:\\users\\luann\\onedrive\\documentos\\projetos\\ia\\venv\\lib\\site-packages (from -r requirements.txt (line 5)) (1.3.1)\n",
      "Requirement already satisfied: nltk in c:\\users\\luann\\onedrive\\documentos\\projetos\\ia\\venv\\lib\\site-packages (from -r requirements.txt (line 6)) (3.8.1)\n",
      "Requirement already satisfied: scipy in c:\\users\\luann\\onedrive\\documentos\\projetos\\ia\\venv\\lib\\site-packages (from -r requirements.txt (line 7)) (1.11.2)\n",
      "Requirement already satisfied: unidecode in c:\\users\\luann\\onedrive\\documentos\\projetos\\ia\\venv\\lib\\site-packages (from -r requirements.txt (line 8)) (1.3.6)\n",
      "Requirement already satisfied: python-dateutil>=2.8.2 in c:\\users\\luann\\onedrive\\documentos\\projetos\\ia\\venv\\lib\\site-packages (from pandas->-r requirements.txt (line 2)) (2.8.2)\n",
      "Requirement already satisfied: pytz>=2020.1 in c:\\users\\luann\\onedrive\\documentos\\projetos\\ia\\venv\\lib\\site-packages (from pandas->-r requirements.txt (line 2)) (2023.3.post1)\n",
      "Requirement already satisfied: tzdata>=2022.1 in c:\\users\\luann\\onedrive\\documentos\\projetos\\ia\\venv\\lib\\site-packages (from pandas->-r requirements.txt (line 2)) (2023.3)\n",
      "Requirement already satisfied: contourpy>=1.0.1 in c:\\users\\luann\\onedrive\\documentos\\projetos\\ia\\venv\\lib\\site-packages (from matplotlib->-r requirements.txt (line 3)) (1.1.1)\n",
      "Requirement already satisfied: cycler>=0.10 in c:\\users\\luann\\onedrive\\documentos\\projetos\\ia\\venv\\lib\\site-packages (from matplotlib->-r requirements.txt (line 3)) (0.11.0)\n",
      "Requirement already satisfied: fonttools>=4.22.0 in c:\\users\\luann\\onedrive\\documentos\\projetos\\ia\\venv\\lib\\site-packages (from matplotlib->-r requirements.txt (line 3)) (4.42.1)\n",
      "Requirement already satisfied: kiwisolver>=1.0.1 in c:\\users\\luann\\onedrive\\documentos\\projetos\\ia\\venv\\lib\\site-packages (from matplotlib->-r requirements.txt (line 3)) (1.4.5)\n",
      "Requirement already satisfied: packaging>=20.0 in c:\\users\\luann\\onedrive\\documentos\\projetos\\ia\\venv\\lib\\site-packages (from matplotlib->-r requirements.txt (line 3)) (23.1)\n",
      "Requirement already satisfied: pillow>=6.2.0 in c:\\users\\luann\\onedrive\\documentos\\projetos\\ia\\venv\\lib\\site-packages (from matplotlib->-r requirements.txt (line 3)) (10.0.1)\n",
      "Requirement already satisfied: pyparsing>=2.3.1 in c:\\users\\luann\\onedrive\\documentos\\projetos\\ia\\venv\\lib\\site-packages (from matplotlib->-r requirements.txt (line 3)) (3.1.1)\n",
      "Requirement already satisfied: joblib>=1.1.1 in c:\\users\\luann\\onedrive\\documentos\\projetos\\ia\\venv\\lib\\site-packages (from scikit-learn->-r requirements.txt (line 5)) (1.3.2)\n",
      "Requirement already satisfied: threadpoolctl>=2.0.0 in c:\\users\\luann\\onedrive\\documentos\\projetos\\ia\\venv\\lib\\site-packages (from scikit-learn->-r requirements.txt (line 5)) (3.2.0)\n",
      "Requirement already satisfied: click in c:\\users\\luann\\onedrive\\documentos\\projetos\\ia\\venv\\lib\\site-packages (from nltk->-r requirements.txt (line 6)) (8.1.7)\n",
      "Requirement already satisfied: regex>=2021.8.3 in c:\\users\\luann\\onedrive\\documentos\\projetos\\ia\\venv\\lib\\site-packages (from nltk->-r requirements.txt (line 6)) (2023.8.8)\n",
      "Requirement already satisfied: tqdm in c:\\users\\luann\\onedrive\\documentos\\projetos\\ia\\venv\\lib\\site-packages (from nltk->-r requirements.txt (line 6)) (4.66.1)\n",
      "Requirement already satisfied: six>=1.5 in c:\\users\\luann\\onedrive\\documentos\\projetos\\ia\\venv\\lib\\site-packages (from python-dateutil>=2.8.2->pandas->-r requirements.txt (line 2)) (1.16.0)\n",
      "Requirement already satisfied: colorama in c:\\users\\luann\\onedrive\\documentos\\projetos\\ia\\venv\\lib\\site-packages (from click->nltk->-r requirements.txt (line 6)) (0.4.6)\n",
      "Note: you may need to restart the kernel to use updated packages.\n"
     ]
    },
    {
     "name": "stderr",
     "output_type": "stream",
     "text": [
      "\n",
      "[notice] A new release of pip available: 22.3.1 -> 23.2.1\n",
      "[notice] To update, run: python.exe -m pip install --upgrade pip\n"
     ]
    }
   ],
   "source": [
    "pip install -r requirements.txt"
   ]
  },
  {
   "cell_type": "code",
   "execution_count": 2,
   "id": "0e453c78-2367-4e7b-a89c-9ce6e94c1d09",
   "metadata": {
    "ExecuteTime": {
     "end_time": "2023-09-21T20:50:56.142262100Z",
     "start_time": "2023-09-21T20:50:55.419368700Z"
    }
   },
   "outputs": [
    {
     "data": {
      "text/plain": "7719"
     },
     "execution_count": 2,
     "metadata": {},
     "output_type": "execute_result"
    }
   ],
   "source": [
    "import pandas as pn\n",
    "\n",
    "data = pn.read_csv(\"Mumbai.csv\")\n",
    "\n",
    "len(data)\n"
   ]
  },
  {
   "cell_type": "code",
   "execution_count": 3,
   "id": "2cceec61-a80f-4c33-8994-cc996713d909",
   "metadata": {
    "ExecuteTime": {
     "end_time": "2023-09-21T20:50:56.987523900Z",
     "start_time": "2023-09-21T20:50:56.956723500Z"
    }
   },
   "outputs": [
    {
     "data": {
      "text/plain": "     Price  Area  Location  No. of Bedrooms  Resale  MaintenanceStaff  \\\n0  4850000   720  Kharghar                1       1                 1   \n1  4500000   600  Kharghar                1       1                 1   \n2  6700000   650  Kharghar                1       1                 1   \n3  4500000   650  Kharghar                1       1                 1   \n4  5000000   665  Kharghar                1       1                 1   \n\n   Gymnasium  SwimmingPool  LandscapedGardens  JoggingTrack  ...  \\\n0          0             0                  0             0  ...   \n1          1             1                  0             1  ...   \n2          1             1                  0             1  ...   \n3          0             0                  1             0  ...   \n4          0             0                  1             0  ...   \n\n   LiftAvailable  BED  VaastuCompliant  Microwave  GolfCourse  TV  \\\n0              1    0                1          0           0   0   \n1              1    0                1          0           0   0   \n2              1    0                1          0           0   0   \n3              1    1                1          0           0   0   \n4              1    0                1          0           0   0   \n\n   DiningTable  Sofa  Wardrobe  Refrigerator  \n0            0     0         0             0  \n1            0     0         0             0  \n2            0     0         0             0  \n3            0     0         1             0  \n4            0     0         0             0  \n\n[5 rows x 40 columns]",
      "text/html": "<div>\n<style scoped>\n    .dataframe tbody tr th:only-of-type {\n        vertical-align: middle;\n    }\n\n    .dataframe tbody tr th {\n        vertical-align: top;\n    }\n\n    .dataframe thead th {\n        text-align: right;\n    }\n</style>\n<table border=\"1\" class=\"dataframe\">\n  <thead>\n    <tr style=\"text-align: right;\">\n      <th></th>\n      <th>Price</th>\n      <th>Area</th>\n      <th>Location</th>\n      <th>No. of Bedrooms</th>\n      <th>Resale</th>\n      <th>MaintenanceStaff</th>\n      <th>Gymnasium</th>\n      <th>SwimmingPool</th>\n      <th>LandscapedGardens</th>\n      <th>JoggingTrack</th>\n      <th>...</th>\n      <th>LiftAvailable</th>\n      <th>BED</th>\n      <th>VaastuCompliant</th>\n      <th>Microwave</th>\n      <th>GolfCourse</th>\n      <th>TV</th>\n      <th>DiningTable</th>\n      <th>Sofa</th>\n      <th>Wardrobe</th>\n      <th>Refrigerator</th>\n    </tr>\n  </thead>\n  <tbody>\n    <tr>\n      <th>0</th>\n      <td>4850000</td>\n      <td>720</td>\n      <td>Kharghar</td>\n      <td>1</td>\n      <td>1</td>\n      <td>1</td>\n      <td>0</td>\n      <td>0</td>\n      <td>0</td>\n      <td>0</td>\n      <td>...</td>\n      <td>1</td>\n      <td>0</td>\n      <td>1</td>\n      <td>0</td>\n      <td>0</td>\n      <td>0</td>\n      <td>0</td>\n      <td>0</td>\n      <td>0</td>\n      <td>0</td>\n    </tr>\n    <tr>\n      <th>1</th>\n      <td>4500000</td>\n      <td>600</td>\n      <td>Kharghar</td>\n      <td>1</td>\n      <td>1</td>\n      <td>1</td>\n      <td>1</td>\n      <td>1</td>\n      <td>0</td>\n      <td>1</td>\n      <td>...</td>\n      <td>1</td>\n      <td>0</td>\n      <td>1</td>\n      <td>0</td>\n      <td>0</td>\n      <td>0</td>\n      <td>0</td>\n      <td>0</td>\n      <td>0</td>\n      <td>0</td>\n    </tr>\n    <tr>\n      <th>2</th>\n      <td>6700000</td>\n      <td>650</td>\n      <td>Kharghar</td>\n      <td>1</td>\n      <td>1</td>\n      <td>1</td>\n      <td>1</td>\n      <td>1</td>\n      <td>0</td>\n      <td>1</td>\n      <td>...</td>\n      <td>1</td>\n      <td>0</td>\n      <td>1</td>\n      <td>0</td>\n      <td>0</td>\n      <td>0</td>\n      <td>0</td>\n      <td>0</td>\n      <td>0</td>\n      <td>0</td>\n    </tr>\n    <tr>\n      <th>3</th>\n      <td>4500000</td>\n      <td>650</td>\n      <td>Kharghar</td>\n      <td>1</td>\n      <td>1</td>\n      <td>1</td>\n      <td>0</td>\n      <td>0</td>\n      <td>1</td>\n      <td>0</td>\n      <td>...</td>\n      <td>1</td>\n      <td>1</td>\n      <td>1</td>\n      <td>0</td>\n      <td>0</td>\n      <td>0</td>\n      <td>0</td>\n      <td>0</td>\n      <td>1</td>\n      <td>0</td>\n    </tr>\n    <tr>\n      <th>4</th>\n      <td>5000000</td>\n      <td>665</td>\n      <td>Kharghar</td>\n      <td>1</td>\n      <td>1</td>\n      <td>1</td>\n      <td>0</td>\n      <td>0</td>\n      <td>1</td>\n      <td>0</td>\n      <td>...</td>\n      <td>1</td>\n      <td>0</td>\n      <td>1</td>\n      <td>0</td>\n      <td>0</td>\n      <td>0</td>\n      <td>0</td>\n      <td>0</td>\n      <td>0</td>\n      <td>0</td>\n    </tr>\n  </tbody>\n</table>\n<p>5 rows × 40 columns</p>\n</div>"
     },
     "execution_count": 3,
     "metadata": {},
     "output_type": "execute_result"
    }
   ],
   "source": [
    "data.head()"
   ]
  },
  {
   "cell_type": "code",
   "execution_count": 4,
   "id": "e44b0938-5c11-458b-a132-c004092a2741",
   "metadata": {
    "ExecuteTime": {
     "end_time": "2023-09-21T20:50:57.533194Z",
     "start_time": "2023-09-21T20:50:57.435975200Z"
    }
   },
   "outputs": [
    {
     "name": "stdout",
     "output_type": "stream",
     "text": [
      "<class 'pandas.core.frame.DataFrame'>\n",
      "RangeIndex: 7719 entries, 0 to 7718\n",
      "Data columns (total 40 columns):\n",
      " #   Column               Non-Null Count  Dtype \n",
      "---  ------               --------------  ----- \n",
      " 0   Price                7719 non-null   int64 \n",
      " 1   Area                 7719 non-null   int64 \n",
      " 2   Location             7719 non-null   object\n",
      " 3   No. of Bedrooms      7719 non-null   int64 \n",
      " 4   Resale               7719 non-null   int64 \n",
      " 5   MaintenanceStaff     7719 non-null   int64 \n",
      " 6   Gymnasium            7719 non-null   int64 \n",
      " 7   SwimmingPool         7719 non-null   int64 \n",
      " 8   LandscapedGardens    7719 non-null   int64 \n",
      " 9   JoggingTrack         7719 non-null   int64 \n",
      " 10  RainWaterHarvesting  7719 non-null   int64 \n",
      " 11  IndoorGames          7719 non-null   int64 \n",
      " 12  ShoppingMall         7719 non-null   int64 \n",
      " 13  Intercom             7719 non-null   int64 \n",
      " 14  SportsFacility       7719 non-null   int64 \n",
      " 15  ATM                  7719 non-null   int64 \n",
      " 16  ClubHouse            7719 non-null   int64 \n",
      " 17  School               7719 non-null   int64 \n",
      " 18  24X7Security         7719 non-null   int64 \n",
      " 19  PowerBackup          7719 non-null   int64 \n",
      " 20  CarParking           7719 non-null   int64 \n",
      " 21  StaffQuarter         7719 non-null   int64 \n",
      " 22  Cafeteria            7719 non-null   int64 \n",
      " 23  MultipurposeRoom     7719 non-null   int64 \n",
      " 24  Hospital             7719 non-null   int64 \n",
      " 25  WashingMachine       7719 non-null   int64 \n",
      " 26  Gasconnection        7719 non-null   int64 \n",
      " 27  AC                   7719 non-null   int64 \n",
      " 28  Wifi                 7719 non-null   int64 \n",
      " 29  Children'splayarea   7719 non-null   int64 \n",
      " 30  LiftAvailable        7719 non-null   int64 \n",
      " 31  BED                  7719 non-null   int64 \n",
      " 32  VaastuCompliant      7719 non-null   int64 \n",
      " 33  Microwave            7719 non-null   int64 \n",
      " 34  GolfCourse           7719 non-null   int64 \n",
      " 35  TV                   7719 non-null   int64 \n",
      " 36  DiningTable          7719 non-null   int64 \n",
      " 37  Sofa                 7719 non-null   int64 \n",
      " 38  Wardrobe             7719 non-null   int64 \n",
      " 39  Refrigerator         7719 non-null   int64 \n",
      "dtypes: int64(39), object(1)\n",
      "memory usage: 2.4+ MB\n"
     ]
    }
   ],
   "source": [
    "data.info()"
   ]
  },
  {
   "cell_type": "code",
   "execution_count": 5,
   "id": "96dc3d71-a669-48f2-b498-2187b07e2285",
   "metadata": {
    "ExecuteTime": {
     "end_time": "2023-09-21T20:50:58.375148700Z",
     "start_time": "2023-09-21T20:50:58.221061700Z"
    }
   },
   "outputs": [
    {
     "data": {
      "text/plain": "              Price         Area  No. of Bedrooms       Resale  \\\ncount  7.719000e+03  7719.000000      7719.000000  7719.000000   \nmean   1.506165e+07   998.409250         1.913331     0.647105   \nstd    2.052100e+07   550.967809         0.855376     0.477901   \nmin    2.000000e+06   200.000000         1.000000     0.000000   \n25%    5.300000e+06   650.000000         1.000000     0.000000   \n50%    9.500000e+06   900.000000         2.000000     1.000000   \n75%    1.700000e+07  1177.000000         2.000000     1.000000   \nmax    4.200000e+08  8511.000000         7.000000     1.000000   \n\n       MaintenanceStaff    Gymnasium  SwimmingPool  LandscapedGardens  \\\ncount       7719.000000  7719.000000   7719.000000        7719.000000   \nmean           7.498899     7.473896      7.437881           7.441638   \nstd            3.197923     3.252095      3.328245           3.320401   \nmin            0.000000     0.000000      0.000000           0.000000   \n25%            9.000000     9.000000      9.000000           9.000000   \n50%            9.000000     9.000000      9.000000           9.000000   \n75%            9.000000     9.000000      9.000000           9.000000   \nmax            9.000000     9.000000      9.000000           9.000000   \n\n       JoggingTrack  RainWaterHarvesting  ...  LiftAvailable          BED  \\\ncount   7719.000000          7719.000000  ...    7719.000000  7719.000000   \nmean       7.439435             7.477005  ...       7.518331     7.417930   \nstd        3.325002             3.245418  ...       3.155041     3.369523   \nmin        0.000000             0.000000  ...       0.000000     0.000000   \n25%        9.000000             9.000000  ...       9.000000     9.000000   \n50%        9.000000             9.000000  ...       9.000000     9.000000   \n75%        9.000000             9.000000  ...       9.000000     9.000000   \nmax        9.000000             9.000000  ...       9.000000     9.000000   \n\n       VaastuCompliant    Microwave   GolfCourse           TV  DiningTable  \\\ncount      7719.000000  7719.000000  7719.000000  7719.000000  7719.000000   \nmean          7.454722     7.372069     7.379712     7.379065     7.373624   \nstd           3.292904     3.462108     3.446892     3.448185     3.459020   \nmin           0.000000     0.000000     0.000000     0.000000     0.000000   \n25%           9.000000     9.000000     9.000000     9.000000     9.000000   \n50%           9.000000     9.000000     9.000000     9.000000     9.000000   \n75%           9.000000     9.000000     9.000000     9.000000     9.000000   \nmax           9.000000     9.000000     9.000000     9.000000     9.000000   \n\n              Sofa     Wardrobe  Refrigerator  \ncount  7719.000000  7719.000000   7719.000000  \nmean      7.374530     7.383988      7.374789  \nstd       3.457217     3.438345      3.456702  \nmin       0.000000     0.000000      0.000000  \n25%       9.000000     9.000000      9.000000  \n50%       9.000000     9.000000      9.000000  \n75%       9.000000     9.000000      9.000000  \nmax       9.000000     9.000000      9.000000  \n\n[8 rows x 39 columns]",
      "text/html": "<div>\n<style scoped>\n    .dataframe tbody tr th:only-of-type {\n        vertical-align: middle;\n    }\n\n    .dataframe tbody tr th {\n        vertical-align: top;\n    }\n\n    .dataframe thead th {\n        text-align: right;\n    }\n</style>\n<table border=\"1\" class=\"dataframe\">\n  <thead>\n    <tr style=\"text-align: right;\">\n      <th></th>\n      <th>Price</th>\n      <th>Area</th>\n      <th>No. of Bedrooms</th>\n      <th>Resale</th>\n      <th>MaintenanceStaff</th>\n      <th>Gymnasium</th>\n      <th>SwimmingPool</th>\n      <th>LandscapedGardens</th>\n      <th>JoggingTrack</th>\n      <th>RainWaterHarvesting</th>\n      <th>...</th>\n      <th>LiftAvailable</th>\n      <th>BED</th>\n      <th>VaastuCompliant</th>\n      <th>Microwave</th>\n      <th>GolfCourse</th>\n      <th>TV</th>\n      <th>DiningTable</th>\n      <th>Sofa</th>\n      <th>Wardrobe</th>\n      <th>Refrigerator</th>\n    </tr>\n  </thead>\n  <tbody>\n    <tr>\n      <th>count</th>\n      <td>7.719000e+03</td>\n      <td>7719.000000</td>\n      <td>7719.000000</td>\n      <td>7719.000000</td>\n      <td>7719.000000</td>\n      <td>7719.000000</td>\n      <td>7719.000000</td>\n      <td>7719.000000</td>\n      <td>7719.000000</td>\n      <td>7719.000000</td>\n      <td>...</td>\n      <td>7719.000000</td>\n      <td>7719.000000</td>\n      <td>7719.000000</td>\n      <td>7719.000000</td>\n      <td>7719.000000</td>\n      <td>7719.000000</td>\n      <td>7719.000000</td>\n      <td>7719.000000</td>\n      <td>7719.000000</td>\n      <td>7719.000000</td>\n    </tr>\n    <tr>\n      <th>mean</th>\n      <td>1.506165e+07</td>\n      <td>998.409250</td>\n      <td>1.913331</td>\n      <td>0.647105</td>\n      <td>7.498899</td>\n      <td>7.473896</td>\n      <td>7.437881</td>\n      <td>7.441638</td>\n      <td>7.439435</td>\n      <td>7.477005</td>\n      <td>...</td>\n      <td>7.518331</td>\n      <td>7.417930</td>\n      <td>7.454722</td>\n      <td>7.372069</td>\n      <td>7.379712</td>\n      <td>7.379065</td>\n      <td>7.373624</td>\n      <td>7.374530</td>\n      <td>7.383988</td>\n      <td>7.374789</td>\n    </tr>\n    <tr>\n      <th>std</th>\n      <td>2.052100e+07</td>\n      <td>550.967809</td>\n      <td>0.855376</td>\n      <td>0.477901</td>\n      <td>3.197923</td>\n      <td>3.252095</td>\n      <td>3.328245</td>\n      <td>3.320401</td>\n      <td>3.325002</td>\n      <td>3.245418</td>\n      <td>...</td>\n      <td>3.155041</td>\n      <td>3.369523</td>\n      <td>3.292904</td>\n      <td>3.462108</td>\n      <td>3.446892</td>\n      <td>3.448185</td>\n      <td>3.459020</td>\n      <td>3.457217</td>\n      <td>3.438345</td>\n      <td>3.456702</td>\n    </tr>\n    <tr>\n      <th>min</th>\n      <td>2.000000e+06</td>\n      <td>200.000000</td>\n      <td>1.000000</td>\n      <td>0.000000</td>\n      <td>0.000000</td>\n      <td>0.000000</td>\n      <td>0.000000</td>\n      <td>0.000000</td>\n      <td>0.000000</td>\n      <td>0.000000</td>\n      <td>...</td>\n      <td>0.000000</td>\n      <td>0.000000</td>\n      <td>0.000000</td>\n      <td>0.000000</td>\n      <td>0.000000</td>\n      <td>0.000000</td>\n      <td>0.000000</td>\n      <td>0.000000</td>\n      <td>0.000000</td>\n      <td>0.000000</td>\n    </tr>\n    <tr>\n      <th>25%</th>\n      <td>5.300000e+06</td>\n      <td>650.000000</td>\n      <td>1.000000</td>\n      <td>0.000000</td>\n      <td>9.000000</td>\n      <td>9.000000</td>\n      <td>9.000000</td>\n      <td>9.000000</td>\n      <td>9.000000</td>\n      <td>9.000000</td>\n      <td>...</td>\n      <td>9.000000</td>\n      <td>9.000000</td>\n      <td>9.000000</td>\n      <td>9.000000</td>\n      <td>9.000000</td>\n      <td>9.000000</td>\n      <td>9.000000</td>\n      <td>9.000000</td>\n      <td>9.000000</td>\n      <td>9.000000</td>\n    </tr>\n    <tr>\n      <th>50%</th>\n      <td>9.500000e+06</td>\n      <td>900.000000</td>\n      <td>2.000000</td>\n      <td>1.000000</td>\n      <td>9.000000</td>\n      <td>9.000000</td>\n      <td>9.000000</td>\n      <td>9.000000</td>\n      <td>9.000000</td>\n      <td>9.000000</td>\n      <td>...</td>\n      <td>9.000000</td>\n      <td>9.000000</td>\n      <td>9.000000</td>\n      <td>9.000000</td>\n      <td>9.000000</td>\n      <td>9.000000</td>\n      <td>9.000000</td>\n      <td>9.000000</td>\n      <td>9.000000</td>\n      <td>9.000000</td>\n    </tr>\n    <tr>\n      <th>75%</th>\n      <td>1.700000e+07</td>\n      <td>1177.000000</td>\n      <td>2.000000</td>\n      <td>1.000000</td>\n      <td>9.000000</td>\n      <td>9.000000</td>\n      <td>9.000000</td>\n      <td>9.000000</td>\n      <td>9.000000</td>\n      <td>9.000000</td>\n      <td>...</td>\n      <td>9.000000</td>\n      <td>9.000000</td>\n      <td>9.000000</td>\n      <td>9.000000</td>\n      <td>9.000000</td>\n      <td>9.000000</td>\n      <td>9.000000</td>\n      <td>9.000000</td>\n      <td>9.000000</td>\n      <td>9.000000</td>\n    </tr>\n    <tr>\n      <th>max</th>\n      <td>4.200000e+08</td>\n      <td>8511.000000</td>\n      <td>7.000000</td>\n      <td>1.000000</td>\n      <td>9.000000</td>\n      <td>9.000000</td>\n      <td>9.000000</td>\n      <td>9.000000</td>\n      <td>9.000000</td>\n      <td>9.000000</td>\n      <td>...</td>\n      <td>9.000000</td>\n      <td>9.000000</td>\n      <td>9.000000</td>\n      <td>9.000000</td>\n      <td>9.000000</td>\n      <td>9.000000</td>\n      <td>9.000000</td>\n      <td>9.000000</td>\n      <td>9.000000</td>\n      <td>9.000000</td>\n    </tr>\n  </tbody>\n</table>\n<p>8 rows × 39 columns</p>\n</div>"
     },
     "execution_count": 5,
     "metadata": {},
     "output_type": "execute_result"
    }
   ],
   "source": [
    "data.describe()"
   ]
  },
  {
   "cell_type": "code",
   "execution_count": 6,
   "id": "39624866-c665-41d7-8e54-e6caf7af216c",
   "metadata": {
    "ExecuteTime": {
     "end_time": "2023-09-21T20:51:01.295326500Z",
     "start_time": "2023-09-21T20:51:00.524006500Z"
    }
   },
   "outputs": [],
   "source": [
    "from sklearn.preprocessing import OneHotEncoder\n",
    "\n",
    "#instancia do OneHotEncoder(OHE)\n",
    "encoder = OneHotEncoder(handle_unknown='ignore')\n",
    "\n",
    "#fazendo o OHE\n",
    "encoder_data = pn.DataFrame(encoder.fit_transform(data[['Location']]).toarray())\n",
    "\n",
    "data = data.join(encoder_data)\n",
    "\n",
    "data = data.drop('Location',axis = 1)"
   ]
  },
  {
   "cell_type": "code",
   "execution_count": 7,
   "id": "9c0b208a-0e95-4e82-a50b-b7ade7d25b31",
   "metadata": {
    "ExecuteTime": {
     "end_time": "2023-09-21T20:51:04.417858400Z",
     "start_time": "2023-09-21T20:51:04.381334900Z"
    }
   },
   "outputs": [
    {
     "data": {
      "text/plain": "     Price  Area  No. of Bedrooms  Resale  MaintenanceStaff  Gymnasium  \\\n0  4850000   720                1       1                 1          0   \n1  4500000   600                1       1                 1          1   \n2  6700000   650                1       1                 1          1   \n3  4500000   650                1       1                 1          0   \n4  5000000   665                1       1                 1          0   \n\n   SwimmingPool  LandscapedGardens  JoggingTrack  RainWaterHarvesting  ...  \\\n0             0                  0             0                    0  ...   \n1             1                  0             1                    1  ...   \n2             1                  0             1                    1  ...   \n3             0                  1             0                    1  ...   \n4             0                  1             0                    1  ...   \n\n   403  404  405  406  407  408  409  410  411  412  \n0  0.0  0.0  0.0  0.0  0.0  0.0  0.0  0.0  0.0  0.0  \n1  0.0  0.0  0.0  0.0  0.0  0.0  0.0  0.0  0.0  0.0  \n2  0.0  0.0  0.0  0.0  0.0  0.0  0.0  0.0  0.0  0.0  \n3  0.0  0.0  0.0  0.0  0.0  0.0  0.0  0.0  0.0  0.0  \n4  0.0  0.0  0.0  0.0  0.0  0.0  0.0  0.0  0.0  0.0  \n\n[5 rows x 452 columns]",
      "text/html": "<div>\n<style scoped>\n    .dataframe tbody tr th:only-of-type {\n        vertical-align: middle;\n    }\n\n    .dataframe tbody tr th {\n        vertical-align: top;\n    }\n\n    .dataframe thead th {\n        text-align: right;\n    }\n</style>\n<table border=\"1\" class=\"dataframe\">\n  <thead>\n    <tr style=\"text-align: right;\">\n      <th></th>\n      <th>Price</th>\n      <th>Area</th>\n      <th>No. of Bedrooms</th>\n      <th>Resale</th>\n      <th>MaintenanceStaff</th>\n      <th>Gymnasium</th>\n      <th>SwimmingPool</th>\n      <th>LandscapedGardens</th>\n      <th>JoggingTrack</th>\n      <th>RainWaterHarvesting</th>\n      <th>...</th>\n      <th>403</th>\n      <th>404</th>\n      <th>405</th>\n      <th>406</th>\n      <th>407</th>\n      <th>408</th>\n      <th>409</th>\n      <th>410</th>\n      <th>411</th>\n      <th>412</th>\n    </tr>\n  </thead>\n  <tbody>\n    <tr>\n      <th>0</th>\n      <td>4850000</td>\n      <td>720</td>\n      <td>1</td>\n      <td>1</td>\n      <td>1</td>\n      <td>0</td>\n      <td>0</td>\n      <td>0</td>\n      <td>0</td>\n      <td>0</td>\n      <td>...</td>\n      <td>0.0</td>\n      <td>0.0</td>\n      <td>0.0</td>\n      <td>0.0</td>\n      <td>0.0</td>\n      <td>0.0</td>\n      <td>0.0</td>\n      <td>0.0</td>\n      <td>0.0</td>\n      <td>0.0</td>\n    </tr>\n    <tr>\n      <th>1</th>\n      <td>4500000</td>\n      <td>600</td>\n      <td>1</td>\n      <td>1</td>\n      <td>1</td>\n      <td>1</td>\n      <td>1</td>\n      <td>0</td>\n      <td>1</td>\n      <td>1</td>\n      <td>...</td>\n      <td>0.0</td>\n      <td>0.0</td>\n      <td>0.0</td>\n      <td>0.0</td>\n      <td>0.0</td>\n      <td>0.0</td>\n      <td>0.0</td>\n      <td>0.0</td>\n      <td>0.0</td>\n      <td>0.0</td>\n    </tr>\n    <tr>\n      <th>2</th>\n      <td>6700000</td>\n      <td>650</td>\n      <td>1</td>\n      <td>1</td>\n      <td>1</td>\n      <td>1</td>\n      <td>1</td>\n      <td>0</td>\n      <td>1</td>\n      <td>1</td>\n      <td>...</td>\n      <td>0.0</td>\n      <td>0.0</td>\n      <td>0.0</td>\n      <td>0.0</td>\n      <td>0.0</td>\n      <td>0.0</td>\n      <td>0.0</td>\n      <td>0.0</td>\n      <td>0.0</td>\n      <td>0.0</td>\n    </tr>\n    <tr>\n      <th>3</th>\n      <td>4500000</td>\n      <td>650</td>\n      <td>1</td>\n      <td>1</td>\n      <td>1</td>\n      <td>0</td>\n      <td>0</td>\n      <td>1</td>\n      <td>0</td>\n      <td>1</td>\n      <td>...</td>\n      <td>0.0</td>\n      <td>0.0</td>\n      <td>0.0</td>\n      <td>0.0</td>\n      <td>0.0</td>\n      <td>0.0</td>\n      <td>0.0</td>\n      <td>0.0</td>\n      <td>0.0</td>\n      <td>0.0</td>\n    </tr>\n    <tr>\n      <th>4</th>\n      <td>5000000</td>\n      <td>665</td>\n      <td>1</td>\n      <td>1</td>\n      <td>1</td>\n      <td>0</td>\n      <td>0</td>\n      <td>1</td>\n      <td>0</td>\n      <td>1</td>\n      <td>...</td>\n      <td>0.0</td>\n      <td>0.0</td>\n      <td>0.0</td>\n      <td>0.0</td>\n      <td>0.0</td>\n      <td>0.0</td>\n      <td>0.0</td>\n      <td>0.0</td>\n      <td>0.0</td>\n      <td>0.0</td>\n    </tr>\n  </tbody>\n</table>\n<p>5 rows × 452 columns</p>\n</div>"
     },
     "execution_count": 7,
     "metadata": {},
     "output_type": "execute_result"
    }
   ],
   "source": [
    "data.head()"
   ]
  },
  {
   "cell_type": "code",
   "execution_count": 8,
   "id": "5d9e7416-c5f9-40b7-9674-529937a55486",
   "metadata": {
    "ExecuteTime": {
     "end_time": "2023-09-21T20:51:25.532127700Z",
     "start_time": "2023-09-21T20:51:25.398406700Z"
    }
   },
   "outputs": [
    {
     "name": "stdout",
     "output_type": "stream",
     "text": [
      "<class 'pandas.core.frame.DataFrame'>\n",
      "RangeIndex: 7719 entries, 0 to 7718\n",
      "Columns: 452 entries, Price to 412\n",
      "dtypes: float64(413), int64(39)\n",
      "memory usage: 26.6 MB\n"
     ]
    }
   ],
   "source": [
    "data.info()"
   ]
  },
  {
   "cell_type": "code",
   "execution_count": null,
   "outputs": [],
   "source": [],
   "metadata": {
    "collapsed": false
   },
   "id": "b1f2bf793678f95b"
  }
 ],
 "metadata": {
  "kernelspec": {
   "display_name": "Python 3 (ipykernel)",
   "language": "python",
   "name": "python3"
  },
  "language_info": {
   "codemirror_mode": {
    "name": "ipython",
    "version": 3
   },
   "file_extension": ".py",
   "mimetype": "text/x-python",
   "name": "python",
   "nbconvert_exporter": "python",
   "pygments_lexer": "ipython3",
   "version": "3.11.5"
  }
 },
 "nbformat": 4,
 "nbformat_minor": 5
}
